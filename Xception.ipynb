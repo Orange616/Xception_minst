{
  "nbformat": 4,
  "nbformat_minor": 0,
  "metadata": {
    "colab": {
      "name": "Xception.ipynb",
      "provenance": [],
      "toc_visible": true
    },
    "kernelspec": {
      "name": "python3",
      "display_name": "Python 3"
    },
    "language_info": {
      "name": "python"
    },
    "accelerator": "GPU"
  },
  "cells": [
    {
      "cell_type": "markdown",
      "source": [
        "## 数据预处理"
      ],
      "metadata": {
        "id": "yrClbYIOEn8F"
      }
    },
    {
      "cell_type": "code",
      "execution_count": null,
      "metadata": {
        "id": "w0JdJcmXuBcX",
        "colab": {
          "base_uri": "https://localhost:8080/"
        },
        "outputId": "1c1fb8ca-5c3f-480b-cd10-0ba896573ea3"
      },
      "outputs": [
        {
          "output_type": "stream",
          "name": "stdout",
          "text": [
            "Downloading data from https://storage.googleapis.com/tensorflow/tf-keras-datasets/mnist.npz\n",
            "11493376/11490434 [==============================] - 0s 0us/step\n",
            "11501568/11490434 [==============================] - 0s 0us/step\n",
            "(60000, 71, 71, 3) (60000, 10)\n",
            "(10000, 71, 71, 3) (10000, 10)\n"
          ]
        }
      ],
      "source": [
        "import tensorflow as tf\n",
        "import numpy as np\n",
        "# 加载minst数据集\n",
        "(x_train, y_train), (test_images, test_labels) = tf.keras.datasets.mnist.load_data()\n",
        "# 扩充通道维度,使二维图片变为通道数为3的3D张量 \n",
        "x_train = np.expand_dims(x_train, axis=-1)\n",
        "x_test = np.expand_dims(test_images, axis=-1)\n",
        "x_train = np.repeat(x_train, 3, axis=-1)\n",
        "x_test = np.repeat(x_test, 3, axis=-1)\n",
        "# 图像标准化处理 \n",
        "x_train = x_train.astype('float32') / 255\n",
        "x_test = x_test.astype('float32') / 255\n",
        "# 根据网络，改变输入图像尺寸，\n",
        "x_train = tf.image.resize(x_train, [71,71]) \n",
        "x_test = tf.image.resize(x_test, [71,71])\n",
        "# one-hot 编码 \n",
        "y_train = tf.keras.utils.to_categorical(y_train)\n",
        "y_test = tf.keras.utils.to_categorical(test_labels)\n",
        "# 查看尺寸\n",
        "print(x_train.shape, y_train.shape)\n",
        "print(x_test.shape, y_test.shape)"
      ]
    },
    {
      "cell_type": "code",
      "source": [
        "#x_val=tf.concat([x_train[56000:60000],x_test[:3000]],axis=0)\n",
        "#y_val=tf.concat([y_train[56000:60000],y_test[:3000]],axis=0)\n",
        "\n",
        "#x_train=x_train[:56000]\n",
        "#y_train=y_train[:56000]\n",
        "#x_test=x_test[3000:10000]\n",
        "#y_test=y_test[3000:10000]\n",
        "print(x_train.shape, y_train.shape)\n",
        "#print(x_val.shape, y_val.shape)\n",
        "print(x_test.shape, y_test.shape)"
      ],
      "metadata": {
        "colab": {
          "base_uri": "https://localhost:8080/"
        },
        "id": "pP_HaaScmEqu",
        "outputId": "0d89ee37-34bc-4fbd-adab-5f9b2e23b0d5"
      },
      "execution_count": null,
      "outputs": [
        {
          "output_type": "stream",
          "name": "stdout",
          "text": [
            "(60000, 71, 71, 3) (60000, 10)\n",
            "(10000, 71, 71, 3) (10000, 10)\n"
          ]
        }
      ]
    },
    {
      "cell_type": "code",
      "source": [
        "import matplotlib.pyplot as plt\n",
        "plt.imshow(x_train[2])\n",
        "y_train[2]"
      ],
      "metadata": {
        "colab": {
          "base_uri": "https://localhost:8080/",
          "height": 285
        },
        "id": "rtSswFt1vdJN",
        "outputId": "c520763c-0136-4412-ab52-45d62fe4dc97"
      },
      "execution_count": null,
      "outputs": [
        {
          "output_type": "execute_result",
          "data": {
            "text/plain": [
              "array([0., 0., 0., 0., 1., 0., 0., 0., 0., 0.], dtype=float32)"
            ]
          },
          "metadata": {},
          "execution_count": 3
        },
        {
          "output_type": "display_data",
          "data": {
            "image/png": "[encoded data removed]",
            "text/plain": [
              "<Figure size 432x288 with 1 Axes>"
            ]
          },
          "metadata": {
            "needs_background": "light"
          }
        }
      ]
    },
    {
      "cell_type": "markdown",
      "source": [
        "## 方法一：自己从0开始训练Xception网络"
      ],
      "metadata": {
        "id": "P9eDpx2cveND"
      }
    },
    {
      "cell_type": "code",
      "source": [
        "#应用Xception模型\n",
        "base_model = tf.keras.applications.Xception(\n",
        "    weights='imagenet',  # Load weights pre-trained on ImageNet.\n",
        "    input_shape=(71, 71, 3),\n",
        "    include_top=False)  # Do not include the ImageNet classifier at the top.\n",
        "#冻结模型\n",
        "base_model.trainable = True\n",
        "inputs = tf.keras.Input(shape=(71, 71, 3))\n",
        "x = base_model(inputs, training=True)\n",
        "#添加新的分类器\n",
        "x = tf.keras.layers.GlobalAveragePooling2D()(x)\n",
        "x= tf.keras.layers.Dense(100,activation='relu')(x)\n",
        "x= tf.keras.layers.Dropout(0.2)(x)\n",
        "outputs = tf.keras.layers.Dense(10,activation='softmax')(x)\n",
        "model = tf.keras.Model(inputs, outputs)\n",
        "model.summary()"
      ],
      "metadata": {
        "id": "4zLDSX45vnKD",
        "colab": {
          "base_uri": "https://localhost:8080/"
        },
        "outputId": "909168b5-350d-47da-aae7-e5519992e320"
      },
      "execution_count": null,
      "outputs": [
        {
          "output_type": "stream",
          "name": "stdout",
          "text": [
            "Downloading data from https://storage.googleapis.com/tensorflow/keras-applications/xception/xception_weights_tf_dim_ordering_tf_kernels_notop.h5\n",
            "83689472/83683744 [==============================] - 3s 0us/step\n",
            "83697664/83683744 [==============================] - 3s 0us/step\n",
            "Model: \"model\"\n",
            "_________________________________________________________________\n",
            " Layer (type)                Output Shape              Param #   \n",
            "=================================================================\n",
            " input_2 (InputLayer)        [(None, 71, 71, 3)]       0         \n",
            "                                                                 \n",
            " xception (Functional)       (None, 3, 3, 2048)        20861480  \n",
            "                                                                 \n",
            " global_average_pooling2d (G  (None, 2048)             0         \n",
            " lobalAveragePooling2D)                                          \n",
            "                                                                 \n",
            " dense (Dense)               (None, 100)               204900    \n",
            "                                                                 \n",
            " dropout (Dropout)           (None, 100)               0         \n",
            "                                                                 \n",
            " dense_1 (Dense)             (None, 10)                1010      \n",
            "                                                                 \n",
            "=================================================================\n",
            "Total params: 21,067,390\n",
            "Trainable params: 21,012,862\n",
            "Non-trainable params: 54,528\n",
            "_________________________________________________________________\n"
          ]
        }
      ]
    },
    {
      "cell_type": "code",
      "source": [
        "#编译、训练模型，记录中间批次在验证集、训练集的准确率与损失\n",
        "model.compile(loss=tf.keras.losses.CategoricalCrossentropy(),\n",
        "              metrics=['accuracy'],optimizer=tf.keras.optimizers.Adam())\n",
        "history = model.fit(x_train,y_train,batch_size=128,epochs=9, validation_split=0.1)"
      ],
      "metadata": {
        "colab": {
          "base_uri": "https://localhost:8080/"
        },
        "id": "Wbe1YPlhCnQS",
        "outputId": "1f774577-c368-4115-d9ba-ba55503f0875"
      },
      "execution_count": null,
      "outputs": [
        {
          "output_type": "stream",
          "name": "stdout",
          "text": [
            "Epoch 1/9\n",
            "422/422 [==============================] - 274s 609ms/step - loss: 0.1202 - accuracy: 0.9682 - val_loss: 0.0405 - val_accuracy: 0.9915\n",
            "Epoch 2/9\n",
            "422/422 [==============================] - 255s 604ms/step - loss: 0.0386 - accuracy: 0.9894 - val_loss: 0.0264 - val_accuracy: 0.9933\n",
            "Epoch 3/9\n",
            "422/422 [==============================] - 255s 604ms/step - loss: 0.0293 - accuracy: 0.9927 - val_loss: 0.0259 - val_accuracy: 0.9935\n",
            "Epoch 4/9\n",
            "422/422 [==============================] - 255s 604ms/step - loss: 0.0224 - accuracy: 0.9942 - val_loss: 0.0399 - val_accuracy: 0.9903\n",
            "Epoch 5/9\n",
            "422/422 [==============================] - 255s 604ms/step - loss: 0.0217 - accuracy: 0.9944 - val_loss: 0.0330 - val_accuracy: 0.9933\n",
            "Epoch 6/9\n",
            "422/422 [==============================] - 254s 603ms/step - loss: 0.0187 - accuracy: 0.9948 - val_loss: 0.0268 - val_accuracy: 0.9952\n",
            "Epoch 7/9\n",
            "422/422 [==============================] - 255s 604ms/step - loss: 0.0163 - accuracy: 0.9960 - val_loss: 0.0288 - val_accuracy: 0.9938\n",
            "Epoch 8/9\n",
            "422/422 [==============================] - 255s 604ms/step - loss: 0.0165 - accuracy: 0.9958 - val_loss: 0.0352 - val_accuracy: 0.9933\n",
            "Epoch 9/9\n",
            "358/422 [========================>.....] - ETA: 37s - loss: 0.0135 - accuracy: 0.9964"
          ]
        }
      ]
    },
    {
      "cell_type": "code",
      "source": [
        "import matplotlib.pyplot as plt\n",
        "import warnings\n",
        "warnings.filterwarnings(\"ignore\")\n",
        "train_loss=history.history['loss']\n",
        "val_loss=history.history['val_loss']\n",
        "train_acc=history.history['accuracy']\n",
        "val_acc=history.history['val_accuracy']\n",
        "epochs=range(1,len(train_loss)+1)\n",
        "\n",
        "plt.plot(epochs,train_loss,'b',color=\"red\",label=\"Training Loss\")\n",
        "plt.plot(epochs,val_loss,'b',label=\"Validation Loss\")\n",
        "plt.title(\"Training and Validation Loss \")\n",
        "plt.ylabel(\"Loss:CategoricalCrossentropy\")\n",
        "plt.xlabel(\"Epochs\")\n",
        "plt.legend(loc='best')"
      ],
      "metadata": {
        "colab": {
          "base_uri": "https://localhost:8080/",
          "height": 312
        },
        "id": "yf_IDme4FLeg",
        "outputId": "4a82954b-9113-497d-e16b-0d0ddd569802"
      },
      "execution_count": null,
      "outputs": [
        {
          "output_type": "execute_result",
          "data": {
            "text/plain": [
              "<matplotlib.legend.Legend at 0x7f7e6e4fbbd0>"
            ]
          },
          "metadata": {},
          "execution_count": 13
        },
        {
          "output_type": "display_data",
          "data": {
            "image/png": "[encoded data removed]",
            "text/plain": [
              "<Figure size 432x288 with 1 Axes>"
            ]
          },
          "metadata": {
            "needs_background": "light"
          }
        }
      ]
    },
    {
      "cell_type": "code",
      "source": [
        "plt.clf()\n",
        "plt.plot(epochs,train_acc,'b',color=\"red\",label=\"Training Accuracy\")\n",
        "plt.plot(epochs,val_acc,'b',label=\"Validation Accuracy\")\n",
        "plt.title(\"Training and Validation Accuracy\")\n",
        "plt.ylabel(\"Accuracy\")\n",
        "plt.xlabel(\"Epochs\")\n",
        "plt.legend(loc='best')\n",
        "plt.show()"
      ],
      "metadata": {
        "colab": {
          "base_uri": "https://localhost:8080/",
          "height": 295
        },
        "id": "Tks7UYrvFWAl",
        "outputId": "fbcf3c85-1eb7-40ea-8160-285ee0a1da0e"
      },
      "execution_count": null,
      "outputs": [
        {
          "output_type": "display_data",
          "data": {
            "image/png": "[encoded data removed]",
            "text/plain": [
              "<Figure size 432x288 with 1 Axes>"
            ]
          },
          "metadata": {
            "needs_background": "light"
          }
        }
      ]
    },
    {
      "cell_type": "code",
      "source": [
        "model.evaluate(x_test, y_test)"
      ],
      "metadata": {
        "colab": {
          "base_uri": "https://localhost:8080/"
        },
        "id": "Am9ZYdBYZnY1",
        "outputId": "020fd040-5629-4270-db68-528abbea6981"
      },
      "execution_count": null,
      "outputs": [
        {
          "output_type": "stream",
          "name": "stdout",
          "text": [
            "313/313 [==============================] - 17s 52ms/step - loss: 0.0657 - accuracy: 0.9905\n"
          ]
        },
        {
          "output_type": "execute_result",
          "data": {
            "text/plain": [
              "[0.06574235111474991, 0.9904999732971191]"
            ]
          },
          "metadata": {},
          "execution_count": 5
        }
      ]
    },
    {
      "cell_type": "markdown",
      "source": [
        "## 方法二：预训练网络特征选取"
      ],
      "metadata": {
        "id": "jf7m6x4GvxbD"
      }
    },
    {
      "cell_type": "code",
      "source": [
        "#应用Xception模型\n",
        "base_model = tf.keras.applications.Xception(\n",
        "    weights='imagenet',  # 加载在ImageNet训练好的网络参数\n",
        "    input_shape=(71, 71, 3),\n",
        "    include_top=False)  # 去除顶部分类器\n",
        "\n",
        "#通过training=False，冻结Xception模型\n",
        "base_model.trainable = False\n",
        "inputs = tf.keras.Input(shape=(71, 71, 3))\n",
        "x = base_model(inputs, training=False)\n",
        "\n",
        "#重新设计xception顶部分类器\n",
        "x = tf.keras.layers.GlobalAveragePooling2D()(x)\n",
        "x= tf.keras.layers.Dense(100,activation='relu')(x)\n",
        "x= tf.keras.layers.Dropout(0.2)(x)\n",
        "outputs = tf.keras.layers.Dense(10,activation='softmax')(x)\n",
        "model_f = tf.keras.Model(inputs, outputs)\n",
        "model_f.summary()"
      ],
      "metadata": {
        "colab": {
          "base_uri": "https://localhost:8080/"
        },
        "id": "b427dg7sv27N",
        "outputId": "ce954e59-af0c-4734-a7d4-12b9c6184005"
      },
      "execution_count": null,
      "outputs": [
        {
          "output_type": "stream",
          "name": "stdout",
          "text": [
            "Downloading data from https://storage.googleapis.com/tensorflow/keras-applications/xception/xception_weights_tf_dim_ordering_tf_kernels_notop.h5\n",
            "83689472/83683744 [==============================] - 1s 0us/step\n",
            "83697664/83683744 [==============================] - 1s 0us/step\n",
            "Model: \"model\"\n",
            "_________________________________________________________________\n",
            " Layer (type)                Output Shape              Param #   \n",
            "=================================================================\n",
            " input_2 (InputLayer)        [(None, 71, 71, 3)]       0         \n",
            "                                                                 \n",
            " xception (Functional)       (None, 3, 3, 2048)        20861480  \n",
            "                                                                 \n",
            " global_average_pooling2d (G  (None, 2048)             0         \n",
            " lobalAveragePooling2D)                                          \n",
            "                                                                 \n",
            " dense (Dense)               (None, 100)               204900    \n",
            "                                                                 \n",
            " dropout (Dropout)           (None, 100)               0         \n",
            "                                                                 \n",
            " dense_1 (Dense)             (None, 10)                1010      \n",
            "                                                                 \n",
            "=================================================================\n",
            "Total params: 21,067,390\n",
            "Trainable params: 205,910\n",
            "Non-trainable params: 20,861,480\n",
            "_________________________________________________________________\n"
          ]
        }
      ]
    },
    {
      "cell_type": "code",
      "source": [
        "#采取RMSprop,学习率更小，编译并拟合模型\n",
        "model_f.compile(loss=tf.keras.losses.CategoricalCrossentropy(),\n",
        "              metrics=['accuracy'],\n",
        "              optimizer=tf.keras.optimizers.RMSprop())\n",
        "history_f = model_f.fit(x_train,y_train,batch_size=128,\n",
        "                        epochs=13,\n",
        "                        validation_split=0.1)"
      ],
      "metadata": {
        "colab": {
          "base_uri": "https://localhost:8080/"
        },
        "id": "Ge1P9xm52d5o",
        "outputId": "a6e5e0d4-4516-45d6-dcea-9d0f5401d16f"
      },
      "execution_count": null,
      "outputs": [
        {
          "output_type": "stream",
          "name": "stdout",
          "text": [
            "Epoch 1/13\n",
            "422/422 [==============================] - 91s 188ms/step - loss: 0.4885 - accuracy: 0.8499 - val_loss: 0.2072 - val_accuracy: 0.9350\n",
            "Epoch 2/13\n",
            "422/422 [==============================] - 76s 181ms/step - loss: 0.2269 - accuracy: 0.9293 - val_loss: 0.1509 - val_accuracy: 0.9522\n",
            "Epoch 3/13\n",
            "422/422 [==============================] - 77s 181ms/step - loss: 0.1814 - accuracy: 0.9421 - val_loss: 0.1234 - val_accuracy: 0.9613\n",
            "Epoch 4/13\n",
            "422/422 [==============================] - 76s 181ms/step - loss: 0.1567 - accuracy: 0.9495 - val_loss: 0.1318 - val_accuracy: 0.9580\n",
            "Epoch 5/13\n",
            "422/422 [==============================] - 76s 181ms/step - loss: 0.1389 - accuracy: 0.9555 - val_loss: 0.1157 - val_accuracy: 0.9625\n",
            "Epoch 6/13\n",
            "422/422 [==============================] - 76s 181ms/step - loss: 0.1280 - accuracy: 0.9589 - val_loss: 0.0975 - val_accuracy: 0.9690\n",
            "Epoch 7/13\n",
            "422/422 [==============================] - 76s 181ms/step - loss: 0.1180 - accuracy: 0.9628 - val_loss: 0.1830 - val_accuracy: 0.9493\n",
            "Epoch 8/13\n",
            "422/422 [==============================] - 76s 180ms/step - loss: 0.1134 - accuracy: 0.9646 - val_loss: 0.1047 - val_accuracy: 0.9673\n",
            "Epoch 9/13\n",
            "422/422 [==============================] - 76s 181ms/step - loss: 0.1052 - accuracy: 0.9669 - val_loss: 0.1173 - val_accuracy: 0.9627\n",
            "Epoch 10/13\n",
            "422/422 [==============================] - 76s 181ms/step - loss: 0.0994 - accuracy: 0.9680 - val_loss: 0.1009 - val_accuracy: 0.9692\n",
            "Epoch 11/13\n",
            "422/422 [==============================] - 76s 181ms/step - loss: 0.0962 - accuracy: 0.9686 - val_loss: 0.0909 - val_accuracy: 0.9710\n",
            "Epoch 12/13\n",
            "422/422 [==============================] - 76s 180ms/step - loss: 0.0908 - accuracy: 0.9717 - val_loss: 0.1336 - val_accuracy: 0.9633\n",
            "Epoch 13/13\n",
            "422/422 [==============================] - 77s 183ms/step - loss: 0.0862 - accuracy: 0.9722 - val_loss: 0.0959 - val_accuracy: 0.9692\n"
          ]
        }
      ]
    },
    {
      "cell_type": "code",
      "source": [
        "model_f.evaluate(x_test, y_test)"
      ],
      "metadata": {
        "colab": {
          "base_uri": "https://localhost:8080/"
        },
        "id": "Whv2bBLazXAD",
        "outputId": "6716c37d-735c-45f2-83c0-8341bbf8b75d"
      },
      "execution_count": null,
      "outputs": [
        {
          "output_type": "stream",
          "name": "stdout",
          "text": [
            "313/313 [==============================] - 16s 49ms/step - loss: 0.1182 - accuracy: 0.9648\n"
          ]
        },
        {
          "output_type": "execute_result",
          "data": {
            "text/plain": [
              "[0.11817501485347748, 0.9648000001907349]"
            ]
          },
          "metadata": {},
          "execution_count": 4
        }
      ]
    },
    {
      "cell_type": "code",
      "source": [
        "model_f.evaluate(x_test, y_test)"
      ],
      "metadata": {
        "colab": {
          "base_uri": "https://localhost:8080/"
        },
        "id": "bBoPeGd9_Jo0",
        "outputId": "0328800c-82a7-4753-a6a2-9b610ab75160"
      },
      "execution_count": null,
      "outputs": [
        {
          "output_type": "stream",
          "name": "stdout",
          "text": [
            "313/313 [==============================] - 15s 48ms/step - loss: 0.1188 - accuracy: 0.9704\n"
          ]
        },
        {
          "output_type": "execute_result",
          "data": {
            "text/plain": [
              "[0.11875299364328384, 0.9703999757766724]"
            ]
          },
          "metadata": {},
          "execution_count": 5
        }
      ]
    },
    {
      "cell_type": "code",
      "source": [
        "import matplotlib.pyplot as plt\n",
        "import warnings\n",
        "warnings.filterwarnings(\"ignore\")\n",
        "train_loss_f=history_f.history['loss']\n",
        "val_loss_f=history_f.history['val_loss']\n",
        "train_acc_f=history_f.history['accuracy']\n",
        "val_acc_f=history_f.history['val_accuracy']\n",
        "epochs=range(1,len(train_loss_f)+1)\n",
        "\n",
        "plt.plot(epochs,train_loss_f,'b',color='red',label=\"Training Loss\")\n",
        "plt.plot(epochs,val_loss_f,'b',label=\"Validation Loss\")\n",
        "plt.title(\"Training and Validation Loss \")\n",
        "plt.ylabel(\"Loss:CategoricalCrossentropy\")\n",
        "plt.xlabel(\"Epochs\")\n",
        "plt.legend(loc='best')"
      ],
      "metadata": {
        "colab": {
          "base_uri": "https://localhost:8080/",
          "height": 313
        },
        "id": "XYHKC2mgBAP0",
        "outputId": "b2c12af1-3f9e-4f47-f8b3-ce14ccad4ba5"
      },
      "execution_count": null,
      "outputs": [
        {
          "output_type": "execute_result",
          "data": {
            "text/plain": [
              "<matplotlib.legend.Legend at 0x7fb432c45850>"
            ]
          },
          "metadata": {},
          "execution_count": 8
        },
        {
          "output_type": "display_data",
          "data": {
            "image/png": "[encoded data removed]",
            "text/plain": [
              "<Figure size 432x288 with 1 Axes>"
            ]
          },
          "metadata": {
            "needs_background": "light"
          }
        }
      ]
    },
    {
      "cell_type": "code",
      "source": [
        "plt.clf()\n",
        "plt.plot(epochs,train_acc_f,'b',color='red',label=\"Training Accuracy\")\n",
        "plt.plot(epochs,val_acc_f,'b',label=\"Validation Accuracy\")\n",
        "plt.title(\"Training and Validation Accuracy\")\n",
        "plt.ylabel(\"Accuracy\")\n",
        "plt.xlabel(\"Epochs\")\n",
        "plt.legend(loc='best')\n",
        "plt.show()"
      ],
      "metadata": {
        "colab": {
          "base_uri": "https://localhost:8080/",
          "height": 295
        },
        "id": "z0QsbJvuD0mu",
        "outputId": "c61d8905-c4a1-404f-8eea-c440b1c4d26c"
      },
      "execution_count": null,
      "outputs": [
        {
          "output_type": "display_data",
          "data": {
            "image/png": "[encoded data removed]",
            "text/plain": [
              "<Figure size 432x288 with 1 Axes>"
            ]
          },
          "metadata": {
            "needs_background": "light"
          }
        }
      ]
    },
    {
      "cell_type": "markdown",
      "source": [
        "## 方法三：预训练冻结部分网络，进行微调"
      ],
      "metadata": {
        "id": "K9QAnJXKIwVC"
      }
    },
    {
      "cell_type": "code",
      "source": [
        "#应用Xception模型\n",
        "base_model = tf.keras.applications.Xception(\n",
        "    weights='imagenet',  # Load weights pre-trained on ImageNet.\n",
        "    input_shape=(71, 71, 3),\n",
        "    include_top=False)  # Do not include the ImageNet classifier at the top.\n",
        "\n",
        "#冻结模型\n",
        "#for i,layer in enumerate(base_model.layers):\n",
        "  #print(i, layer.name)\n",
        "for layer in base_model.layers[:125]:\n",
        "  layer.trainable = False\n",
        "#base_model.summary()"
      ],
      "metadata": {
        "id": "s560puJoIDgA",
        "colab": {
          "base_uri": "https://localhost:8080/"
        },
        "outputId": "44cd1494-b846-477f-882d-42c10a7d7983"
      },
      "execution_count": null,
      "outputs": [
        {
          "output_type": "stream",
          "name": "stdout",
          "text": [
            "Downloading data from https://storage.googleapis.com/tensorflow/keras-applications/xception/xception_weights_tf_dim_ordering_tf_kernels_notop.h5\n",
            "83689472/83683744 [==============================] - 4s 0us/step\n",
            "83697664/83683744 [==============================] - 4s 0us/step\n"
          ]
        }
      ]
    },
    {
      "cell_type": "code",
      "source": [
        "inputs = tf.keras.Input(shape=(71, 71, 3))\n",
        "#通过training=False确保基础模型在推断模式下运行。否则就失去了迁移学习和微调的意义\n",
        "x = base_model(inputs)\n",
        "#添加的你的新模型\n",
        "x = tf.keras.layers.GlobalAveragePooling2D()(x)\n",
        "x= tf.keras.layers.Dense(100,activation='relu')(x)\n",
        "x= tf.keras.layers.Dropout(0.2)(x)\n",
        "outputs = tf.keras.layers.Dense(10,activation='softmax')(x)\n",
        "model_tune = tf.keras.Model(inputs, outputs)\n",
        "model_tune.summary()"
      ],
      "metadata": {
        "colab": {
          "base_uri": "https://localhost:8080/"
        },
        "id": "-3b47o07IGB9",
        "outputId": "536aa623-ac2a-411a-902a-a588309bfbfc"
      },
      "execution_count": null,
      "outputs": [
        {
          "output_type": "stream",
          "name": "stdout",
          "text": [
            "Model: \"model_1\"\n",
            "_________________________________________________________________\n",
            " Layer (type)                Output Shape              Param #   \n",
            "=================================================================\n",
            " input_3 (InputLayer)        [(None, 71, 71, 3)]       0         \n",
            "                                                                 \n",
            " xception (Functional)       (None, 3, 3, 2048)        20861480  \n",
            "                                                                 \n",
            " global_average_pooling2d_1   (None, 2048)             0         \n",
            " (GlobalAveragePooling2D)                                        \n",
            "                                                                 \n",
            " dense_2 (Dense)             (None, 100)               204900    \n",
            "                                                                 \n",
            " dropout_1 (Dropout)         (None, 100)               0         \n",
            "                                                                 \n",
            " dense_3 (Dense)             (None, 10)                1010      \n",
            "                                                                 \n",
            "=================================================================\n",
            "Total params: 21,067,390\n",
            "Trainable params: 4,954,710\n",
            "Non-trainable params: 16,112,680\n",
            "_________________________________________________________________\n"
          ]
        }
      ]
    },
    {
      "cell_type": "code",
      "source": [
        "#编译并拟合模型\n",
        "model_tune.compile(loss=tf.keras.losses.CategoricalCrossentropy(),\n",
        "              metrics=['accuracy'],\n",
        "              optimizer=tf.keras.optimizers.RMSprop())\n",
        "history_t = model_tune.fit(x_train,y_train,batch_size=128,\n",
        "          epochs=20,\n",
        "          validation_split=0.1)"
      ],
      "metadata": {
        "colab": {
          "base_uri": "https://localhost:8080/"
        },
        "id": "IcF81SozM_iV",
        "outputId": "78222f7c-57eb-43ef-84bf-17991f6c1a75"
      },
      "execution_count": null,
      "outputs": [
        {
          "output_type": "stream",
          "name": "stdout",
          "text": [
            "Epoch 1/20\n",
            "422/422 [==============================] - 102s 212ms/step - loss: 0.1633 - accuracy: 0.9519 - val_loss: 0.5131 - val_accuracy: 0.8938\n",
            "Epoch 2/20\n",
            "422/422 [==============================] - 87s 206ms/step - loss: 0.0723 - accuracy: 0.9785 - val_loss: 0.1143 - val_accuracy: 0.9745\n",
            "Epoch 3/20\n",
            "422/422 [==============================] - 87s 205ms/step - loss: 0.0572 - accuracy: 0.9841 - val_loss: 0.1390 - val_accuracy: 0.9688\n",
            "Epoch 4/20\n",
            "422/422 [==============================] - 87s 206ms/step - loss: 0.0450 - accuracy: 0.9865 - val_loss: 0.0656 - val_accuracy: 0.9850\n",
            "Epoch 5/20\n",
            "422/422 [==============================] - 87s 206ms/step - loss: 0.0376 - accuracy: 0.9893 - val_loss: 0.0635 - val_accuracy: 0.9875\n",
            "Epoch 6/20\n",
            "422/422 [==============================] - 87s 206ms/step - loss: 0.0337 - accuracy: 0.9908 - val_loss: 0.0666 - val_accuracy: 0.9852\n",
            "Epoch 7/20\n",
            "422/422 [==============================] - 87s 206ms/step - loss: 0.0303 - accuracy: 0.9915 - val_loss: 0.0632 - val_accuracy: 0.9883\n",
            "Epoch 8/20\n",
            "422/422 [==============================] - 87s 206ms/step - loss: 0.0277 - accuracy: 0.9929 - val_loss: 0.0783 - val_accuracy: 0.9865\n",
            "Epoch 9/20\n",
            "422/422 [==============================] - 87s 206ms/step - loss: 0.0253 - accuracy: 0.9935 - val_loss: 0.0595 - val_accuracy: 0.9883\n",
            "Epoch 10/20\n",
            "422/422 [==============================] - 87s 206ms/step - loss: 0.0223 - accuracy: 0.9941 - val_loss: 0.0776 - val_accuracy: 0.9898\n",
            "Epoch 11/20\n",
            "422/422 [==============================] - 87s 206ms/step - loss: 0.0208 - accuracy: 0.9949 - val_loss: 0.0793 - val_accuracy: 0.9883\n",
            "Epoch 12/20\n",
            "422/422 [==============================] - 87s 206ms/step - loss: 0.0209 - accuracy: 0.9950 - val_loss: 0.0797 - val_accuracy: 0.9885\n",
            "Epoch 13/20\n",
            "422/422 [==============================] - 87s 205ms/step - loss: 0.0194 - accuracy: 0.9951 - val_loss: 0.0823 - val_accuracy: 0.9877\n",
            "Epoch 14/20\n",
            "422/422 [==============================] - 87s 206ms/step - loss: 0.0172 - accuracy: 0.9954 - val_loss: 0.0993 - val_accuracy: 0.9883\n",
            "Epoch 15/20\n",
            "422/422 [==============================] - 87s 205ms/step - loss: 0.0163 - accuracy: 0.9960 - val_loss: 0.0756 - val_accuracy: 0.9888\n",
            "Epoch 16/20\n",
            "422/422 [==============================] - 87s 206ms/step - loss: 0.0146 - accuracy: 0.9963 - val_loss: 0.0962 - val_accuracy: 0.9900\n",
            "Epoch 17/20\n",
            "422/422 [==============================] - 87s 206ms/step - loss: 0.0150 - accuracy: 0.9964 - val_loss: 0.1066 - val_accuracy: 0.9902\n",
            "Epoch 18/20\n",
            "422/422 [==============================] - 87s 206ms/step - loss: 0.0177 - accuracy: 0.9962 - val_loss: 0.0879 - val_accuracy: 0.9910\n",
            "Epoch 19/20\n",
            "422/422 [==============================] - 87s 205ms/step - loss: 0.0139 - accuracy: 0.9969 - val_loss: 0.1074 - val_accuracy: 0.9887\n",
            "Epoch 20/20\n",
            "422/422 [==============================] - 87s 206ms/step - loss: 0.0150 - accuracy: 0.9970 - val_loss: 0.0750 - val_accuracy: 0.9908\n"
          ]
        }
      ]
    },
    {
      "cell_type": "code",
      "source": [
        "#编译并拟合模型\n",
        "model_tune.compile(loss=tf.keras.losses.CategoricalCrossentropy(),\n",
        "              metrics=['accuracy'],\n",
        "              optimizer=tf.keras.optimizers.RMSprop())\n",
        "history_t = model_tune.fit(x_train,y_train,batch_size=128,\n",
        "          epochs=9,\n",
        "          validation_split=0.1)"
      ],
      "metadata": {
        "colab": {
          "base_uri": "https://localhost:8080/"
        },
        "id": "7q93yIJZriWR",
        "outputId": "c4281425-cf2a-4f8b-e42b-100cc48d49a2"
      },
      "execution_count": null,
      "outputs": [
        {
          "output_type": "stream",
          "name": "stdout",
          "text": [
            "Epoch 1/9\n",
            "422/422 [==============================] - 96s 198ms/step - loss: 0.1663 - accuracy: 0.9501 - val_loss: 0.1178 - val_accuracy: 0.9658\n",
            "Epoch 2/9\n",
            "422/422 [==============================] - 82s 193ms/step - loss: 0.0746 - accuracy: 0.9784 - val_loss: 0.0746 - val_accuracy: 0.9808\n",
            "Epoch 3/9\n",
            "422/422 [==============================] - 82s 194ms/step - loss: 0.0587 - accuracy: 0.9839 - val_loss: 0.1045 - val_accuracy: 0.9742\n",
            "Epoch 4/9\n",
            "422/422 [==============================] - 82s 193ms/step - loss: 0.0484 - accuracy: 0.9868 - val_loss: 0.0653 - val_accuracy: 0.9825\n",
            "Epoch 5/9\n",
            "422/422 [==============================] - 82s 194ms/step - loss: 0.0385 - accuracy: 0.9888 - val_loss: 0.1266 - val_accuracy: 0.9768\n",
            "Epoch 6/9\n",
            "422/422 [==============================] - 85s 201ms/step - loss: 0.0337 - accuracy: 0.9905 - val_loss: 0.0679 - val_accuracy: 0.9853\n",
            "Epoch 7/9\n",
            "422/422 [==============================] - 82s 194ms/step - loss: 0.0314 - accuracy: 0.9912 - val_loss: 0.0537 - val_accuracy: 0.9870\n",
            "Epoch 8/9\n",
            "422/422 [==============================] - 82s 194ms/step - loss: 0.0271 - accuracy: 0.9922 - val_loss: 0.0532 - val_accuracy: 0.9902\n",
            "Epoch 9/9\n",
            "422/422 [==============================] - 82s 194ms/step - loss: 0.0245 - accuracy: 0.9935 - val_loss: 0.0515 - val_accuracy: 0.9908\n"
          ]
        }
      ]
    },
    {
      "cell_type": "code",
      "source": [
        "train_loss_t=history_t.history['loss']\n",
        "val_loss_t=history_t.history['val_loss']\n",
        "train_acc_t=history_t.history['accuracy']\n",
        "val_acc_t=history_t.history['val_accuracy']\n",
        "epochs=range(1,len(train_loss_t)+1)\n",
        "\n",
        "import matplotlib.pyplot as plt\n",
        "import warnings\n",
        "warnings.filterwarnings(\"ignore\")\n",
        "plt.rcParams['font.sans-serif']=['SimHei']\n",
        "plt.rcParams['axes.unicode_minus'] = False\n",
        "plt.plot(epochs,train_loss_t,'b',color='red',label=\"Training Loss\")\n",
        "plt.plot(epochs,val_loss_t,'b',label=\"Validation Loss\")\n",
        "plt.ylim(0,0.4)\n",
        "plt.title(\"Training and Validation Loss \")\n",
        "plt.ylabel(\"Loss:CategoricalCrossentropy\")\n",
        "plt.xlabel(\"Epochs\")\n",
        "plt.legend(loc='best')"
      ],
      "metadata": {
        "colab": {
          "base_uri": "https://localhost:8080/",
          "height": 350
        },
        "id": "oAyZxjPcNfMD",
        "outputId": "6e068452-08d4-4089-e379-f94465c7a060"
      },
      "execution_count": null,
      "outputs": [
        {
          "output_type": "execute_result",
          "data": {
            "text/plain": [
              "<matplotlib.legend.Legend at 0x7f377b2010d0>"
            ]
          },
          "metadata": {},
          "execution_count": 8
        },
        {
          "output_type": "stream",
          "name": "stderr",
          "text": [
            "findfont: Font family ['sans-serif'] not found. Falling back to DejaVu Sans.\n",
            "findfont: Font family ['sans-serif'] not found. Falling back to DejaVu Sans.\n"
          ]
        },
        {
          "output_type": "display_data",
          "data": {
            "image/png": "[encoded data removed]",
            "text/plain": [
              "<Figure size 432x288 with 1 Axes>"
            ]
          },
          "metadata": {
            "needs_background": "light"
          }
        }
      ]
    },
    {
      "cell_type": "code",
      "source": [
        "plt.clf()\n",
        "plt.plot(epochs,train_acc_t,'b',color='red',label=\"Training Accuracy\")\n",
        "plt.plot(epochs,val_acc_t,'b',label=\"Validation Accuracy\")\n",
        "plt.title(\"Training and Validation Accuracy\")\n",
        "plt.ylabel(\"Accuracy\")\n",
        "plt.xlabel(\"Epochs\")\n",
        "plt.show()"
      ],
      "metadata": {
        "colab": {
          "base_uri": "https://localhost:8080/",
          "height": 295
        },
        "id": "kvwAL7vBTi4u",
        "outputId": "f2b7b5d6-556f-4d46-e151-ad991521f8af"
      },
      "execution_count": null,
      "outputs": [
        {
          "output_type": "display_data",
          "data": {
            "image/png": "[encoded data removed]",
            "text/plain": [
              "<Figure size 432x288 with 1 Axes>"
            ]
          },
          "metadata": {
            "needs_background": "light"
          }
        }
      ]
    },
    {
      "cell_type": "code",
      "source": [
        "model_tune.evaluate(x_test, y_test)"
      ],
      "metadata": {
        "colab": {
          "base_uri": "https://localhost:8080/"
        },
        "id": "MGC2KvdxURqE",
        "outputId": "1f646bb7-a665-489b-8b0b-e6ab0c9103b6"
      },
      "execution_count": null,
      "outputs": [
        {
          "output_type": "stream",
          "name": "stdout",
          "text": [
            "313/313 [==============================] - 15s 46ms/step - loss: 0.0686 - accuracy: 0.9887\n"
          ]
        },
        {
          "output_type": "execute_result",
          "data": {
            "text/plain": [
              "[0.06863047182559967, 0.9886999726295471]"
            ]
          },
          "metadata": {},
          "execution_count": 9
        }
      ]
    }
  ]
}